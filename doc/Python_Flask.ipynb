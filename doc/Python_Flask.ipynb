{
 "cells": [
  {
   "cell_type": "markdown",
   "metadata": {},
   "source": [
    "## APAN 5400 Managing Data Term Project -- Recipe Generator"
   ]
  },
  {
   "cell_type": "markdown",
   "metadata": {},
   "source": [
    "### Key features of our app\n",
    "1. Python Flask to get user inputs based on what ingredients they have\n",
    "2. REST API to request/query from RapidAPI to get recipe information from Spoonacular\n",
    "3. Store json returns in MongoDB\n",
    "4. Return relevant recipes on a html webform for easy viewing\n",
    "\n",
    "Note: This is a developmental system meant to illustrate a proof of concept for the technologies taught in class in order to [potentially] solve a real life problem."
   ]
  },
  {
   "cell_type": "markdown",
   "metadata": {},
   "source": [
    "### Instructions"
   ]
  },
  {
   "cell_type": "markdown",
   "metadata": {},
   "source": [
    "1. Create a \"templates\" folder that is housed in the same location as this .ipynb file\n",
    "2. Place base.html, search.html and recipes.html into the \"templates\" folder\n",
    "3. Install flask and pymongo if needed\n",
    "4. Ensure MongoDB is running on Docker\n",
    "5. Register for a RapidAPI key on https://rapidapi.com/spoonacular/api/recipe-food-nutrition/\n",
    "5. That's it and happy cooking!\n",
    "\n",
    "Note: Please exercise caution when running the app because this is using Marcus' API key, which has a daily limit of 50 requests a day. Exceeding the daily limit would be charged to Marcus. Alternatively, we highly recommend that you register for a personal RapidAPI account with your credit card info (you won't be charged unless you exceed the limits) at https://rapidapi.com/spoonacular/api/recipe-food-nutrition/"
   ]
  },
  {
   "cell_type": "code",
   "execution_count": 1,
   "metadata": {},
   "outputs": [],
   "source": [
    "# Install Flask package if needed\n",
    "# !pip install flask\n",
    "\n",
    "# Install pymongo package if needed\n",
    "# !pip3 install pymongo"
   ]
  },
  {
   "cell_type": "markdown",
   "metadata": {},
   "source": [
    "### Create frontend page for users to key in ingredients"
   ]
  },
  {
   "cell_type": "markdown",
   "metadata": {},
   "source": [
    "1. Define API endpoint and keys\n",
    "2. Create a search_page for user to key in ingredients\n",
    "3. Display a random joke to spice things up"
   ]
  },
  {
   "cell_type": "code",
   "execution_count": 2,
   "metadata": {},
   "outputs": [],
   "source": [
    "from flask import Flask, render_template, request\n",
    "\n",
    "import requests\n",
    "app = Flask(__name__)\n",
    "\n",
    "url = \"https://spoonacular-recipe-food-nutrition-v1.p.rapidapi.com/\"\n",
    "\n",
    "# Change API key to your own if needed\n",
    "headers = {\n",
    "  'x-rapidapi-host': \"spoonacular-recipe-food-nutrition-v1.p.rapidapi.com\",\n",
    "  'x-rapidapi-key': \"85e24d6ad3msh2bfead0e7b0f0f7p19ba4fjsnef67b74a1d08\", \n",
    "  }\n",
    "\n",
    "random_joke = \"food/jokes/random\"\n",
    "find = \"recipes/findByIngredients\"\n",
    "randomFind = \"recipes/random\"\n",
    "\n",
    "@app.route('/')\n",
    "def search_page():\n",
    "  joke_response = str(requests.request(\"GET\", url + random_joke, headers=headers).json()['text'])\n",
    "  return render_template('search.html', joke=joke_response)"
   ]
  },
  {
   "cell_type": "markdown",
   "metadata": {},
   "source": [
    "### Create a recipe search results page"
   ]
  },
  {
   "cell_type": "markdown",
   "metadata": {},
   "source": [
    "1. Initialize MongoDB client\n",
    "2. Create the get_recipes function to query from RapidAPI\n",
    "3. Store response into MongoDB\n",
    "4. Return results on a webpage that shows recipe information and photos\n",
    "5. If no ingredients are entered, return 5 random recipes instead"
   ]
  },
  {
   "cell_type": "code",
   "execution_count": 3,
   "metadata": {},
   "outputs": [],
   "source": [
    "from pymongo import MongoClient\n",
    "from pprint import pprint\n",
    "import json\n",
    "\n",
    "client = MongoClient('localhost',27017)\n",
    "db = client.apan5400\n",
    "\n",
    "@app.route('/recipes')\n",
    "def get_recipes():\n",
    "    if (str(request.args['ingredients']).strip() != \"\"):\n",
    "        # If there is a list of ingredients filled in text box -> list\n",
    "        # Query recipes based on user inputs from RapidAPI\n",
    "        querystring = {\"number\":\"5\",\"ranking\":\"1\",\"ignorePantry\":\"false\",\"ingredients\":request.args['ingredients']}\n",
    "        response = requests.request(\"GET\", url + find, headers=headers, params=querystring).json()\n",
    "        \n",
    "        # Backend store in MongoDB\n",
    "        collection = db.response\n",
    "        collection.insert_many(response)\n",
    "        \n",
    "        # Query from MongoDB\n",
    "        documents = list(collection.find().skip(collection.count() - 5))\n",
    "        return render_template('recipes.html', recipes=documents)\n",
    "    else:\n",
    "        # If there are no ingredients in the input, return random recipes\n",
    "        # However, we haven't got time to design the backend store for this scenario\n",
    "        # But the same logic applies, where we store it in MongoDB and query data from there\n",
    "        # For now, we display recipe results straight from returns from RapidAPI\n",
    "        querystring = {\"number\":\"5\"}\n",
    "        response = requests.request(\"GET\", url + randomFind, headers=headers, params=querystring).json()\n",
    "        return render_template('recipes.html', recipes=response['recipes'])"
   ]
  },
  {
   "cell_type": "markdown",
   "metadata": {},
   "source": [
    "### Run app on localhost"
   ]
  },
  {
   "cell_type": "code",
   "execution_count": 4,
   "metadata": {},
   "outputs": [
    {
     "name": "stdout",
     "output_type": "stream",
     "text": [
      " * Serving Flask app '__main__' (lazy loading)\n",
      " * Environment: production\n",
      "   WARNING: This is a development server. Do not use it in a production deployment.\n",
      "   Use a production WSGI server instead.\n",
      " * Debug mode: off\n"
     ]
    },
    {
     "name": "stderr",
     "output_type": "stream",
     "text": [
      " * Running on http://localhost:5002/ (Press CTRL+C to quit)\n",
      "127.0.0.1 - - [10/Dec/2021 14:11:43] \"GET / HTTP/1.1\" 200 -\n",
      "<ipython-input-3-5c324b91b801>:21: DeprecationWarning: count is deprecated. Use estimated_document_count or count_documents instead. Please note that $where must be replaced by $expr, $near must be replaced by $geoWithin with $center, and $nearSphere must be replaced by $geoWithin with $centerSphere\n",
      "  documents = list(collection.find().skip(collection.count() - 5))\n",
      "127.0.0.1 - - [10/Dec/2021 14:11:50] \"GET /recipes?ingredients=beef%2C+tomato%2C+cheese%2C+milk HTTP/1.1\" 200 -\n"
     ]
    }
   ],
   "source": [
    "if __name__ == '__main__':\n",
    "  app.run(host='localhost', port=5002)"
   ]
  }
 ],
 "metadata": {
  "kernelspec": {
   "display_name": "Python 3",
   "language": "python",
   "name": "python3"
  },
  "language_info": {
   "codemirror_mode": {
    "name": "ipython",
    "version": 3
   },
   "file_extension": ".py",
   "mimetype": "text/x-python",
   "name": "python",
   "nbconvert_exporter": "python",
   "pygments_lexer": "ipython3",
   "version": "3.8.2"
  }
 },
 "nbformat": 4,
 "nbformat_minor": 4
}
